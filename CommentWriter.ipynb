{
 "cells": [
  {
   "cell_type": "code",
   "execution_count": 0,
   "id": "55cf06",
   "metadata": {
    "collapsed": false
   },
   "outputs": [
   ],
   "source": [
    "'''\n",
    "Peter and Derek's Comment Writer\n",
    "Make sure all functions are ran at least once, then run export() for automatic comment writing!\n",
    "'''"
   ]
  },
  {
   "cell_type": "code",
   "execution_count": 35,
   "id": "e89298",
   "metadata": {
    "collapsed": false
   },
   "outputs": [
   ],
   "source": [
    "#imports\n",
    "import csv\n",
    "import random as r"
   ]
  },
  {
   "cell_type": "code",
   "execution_count": 36,
   "id": "51054c",
   "metadata": {
    "collapsed": false
   },
   "outputs": [
   ],
   "source": [
    "#instead of using r.choice for a list everytime, just use this function for ease of exporting into new text files.\n",
    "def rChoose(listing):\n",
    "    '''\n",
    "    Chooses a random item in a list using random.choice\n",
    "    -Derek\n",
    "    '''\n",
    "    return str(r.choice(listing))"
   ]
  },
  {
   "cell_type": "code",
   "execution_count": 99,
   "id": "69a921",
   "metadata": {
    "collapsed": false
   },
   "outputs": [
    {
     "data": {
      "text/plain": [
       "('Jimmy', 'Biology', ['risk-taking', 'consistent growth'], 'B+')"
      ]
     },
     "execution_count": 99,
     "metadata": {
     },
     "output_type": "execute_result"
    }
   ],
   "source": [
    "#Variable defining function, for a student\n",
    "def stats(file, row: int):\n",
    "    '''\n",
    "    Takes in a file and the student by row\n",
    "    Returns all variables\n",
    "    -Derek\n",
    "    '''\n",
    "    #a lot of defined variables for ease of testing\n",
    "    with open(file) as csvN:\n",
    "        data = csv.reader(csvN)\n",
    "        chosen = [i for i in data]\n",
    "        student = chosen[row]\n",
    "        fName = student[1]\n",
    "        course = student[2]\n",
    "        attributes = student[3].split(',')\n",
    "        grade = student[4]\n",
    "    return fName, course, attributes, grade"
   ]
  },
  {
   "cell_type": "code",
   "execution_count": 93,
   "id": "0be2a4",
   "metadata": {
    "collapsed": false
   },
   "outputs": [
    {
     "name": "stdout",
     "output_type": "stream",
     "text": [
      "I recognize your hard work in this course. Also I see the perseverance you showed. \n"
     ]
    }
   ],
   "source": [
    "def Opening(name,course):\n",
    "    \"\"\"\n",
    "    Takes in two strings of the students name and course name\n",
    "    return a string of an opening sentence for the comment\n",
    "    written by Peter\n",
    "    \"\"\"\n",
    "    style=['#, in this semester of *','#']\n",
    "    description=style[r.randint(0,len(style)-1)]\n",
    "    description = description.replace('#',name)\n",
    "    description = description.replace('*',course)\n",
    "    return description\n",
    "\n",
    "\n",
    "def Attribute(attributes):\n",
    "    \"\"\"\n",
    "    Takes in a list of the student's attributes\n",
    "    return a sentence about the students attributes\n",
    "    written by Peter\n",
    "    \"\"\"\n",
    "    style=['I really appreciate your *', 'You showed * through this course', 'I recognize your * in this course', 'I see the * you showed']\n",
    "    description=''\n",
    "    for i in range(len(attributes)):\n",
    "        if i>0:\n",
    "            description+=rChoose([', and ','. Also '])\n",
    "        description+=rChoose(style).replace('*',attributes[i])\n",
    "    description+='. '\n",
    "    return description\n",
    "print(Attribute(['hard work', 'perseverance']))\n",
    "\n",
    "\n",
    "def Grade(grade):\n",
    "    \"\"\"\n",
    "    Takes in the students grade\n",
    "    return a sentence that describes the students grade\n",
    "    written by Peter\n",
    "    \"\"\"\n",
    "    style=['You earned an x in this course', 'Your overall grade is x','You have received a x in this course']\n",
    "    description=style[r.randint(0,len(style)-1)]\n",
    "    description = description.replace('x',grade)\n",
    "    return description\n",
    "\n",
    "\n",
    "def Closing():\n",
    "    \"\"\"\n",
    "    Do not take in any value\n",
    "    returns a closing sentence for the comment\n",
    "    written by Peter\n",
    "    \"\"\"\n",
    "    style=['Keep up the good work, and be ready for a more challenging second semester.','I look forward to your continued success during the remainder of the year.','Your progress this semester has been impressive—keep pushing yourself to do your best!']\n",
    "    description=style[r.randint(0,len(style)-1)]\n",
    "    return description\n",
    "\n",
    "\n",
    "#Name, Course, attributes, grade, Closing"
   ]
  },
  {
   "cell_type": "code",
   "execution_count": 38,
   "id": "9ceedb",
   "metadata": {
    "collapsed": false
   },
   "outputs": [
    {
     "name": "stdout",
     "output_type": "stream",
     "text": [
      "comprehensive\n"
     ]
    }
   ],
   "source": [
    "#First iteration\n",
    "\n",
    "\n",
    "def adjChooser():\n",
    "    '''\n",
    "    A random adjective chooser\n",
    "    -Derek\n",
    "    '''\n",
    "    #GPT generated adjectives, Prompt: \"Generate me a list of academic adjectives in a list in python\"\n",
    "    adjs = {\n",
    "        \"critical thinking & analysis\": [\n",
    "            \"analytical\", \"conceptual\", \"logical\", \"systematic\", \"methodical\",\n",
    "            \"evaluative\", \"interpretive\", \"reflective\"\n",
    "        ],\n",
    "        \"complexity & depth\": [\n",
    "            \"comprehensive\", \"nuanced\", \"sophisticated\", \"multifaceted\",\n",
    "            \"intricate\", \"profound\", \"thorough\"\n",
    "        ],\n",
    "        \"precision & accuracy\": [\n",
    "            \"exact\", \"rigorous\", \"precise\", \"meticulous\", \"detailed\",\n",
    "            \"objective\", \"empirical\"\n",
    "        ],\n",
    "        \"argumentation & persuasion\": [\n",
    "            \"convincing\", \"cogent\", \"persuasive\", \"coherent\", \"substantive\",\n",
    "            \"articulate\", \"well-reasoned\"\n",
    "        ],\n",
    "        \"research & methodology\": [\n",
    "            \"empirical\", \"theoretical\", \"qualitative\", \"quantitative\",\n",
    "            \"experimental\", \"statistical\", \"systematic\"\n",
    "        ],\n",
    "        \"tone & style\": [\n",
    "            \"scholarly\", \"formal\", \"concise\", \"eloquent\", \"lucid\", \"didactic\",\n",
    "            \"pedantic\"\n",
    "        ]\n",
    "    }\n",
    "    following = [\"\"]\n",
    "    chosen = r.choice(r.choice(list(adjs.values())))\n",
    "    return chosen"
   ]
  },
  {
   "cell_type": "code",
   "execution_count": 39,
   "id": "48894e",
   "metadata": {
    "collapsed": false
   },
   "outputs": [
   ],
   "source": [
    "#Course description function\n",
    "\n",
    "\n",
    "def courseDesc(aCourse):\n",
    "    '''\n",
    "    Takes in a recorded course name\n",
    "    Returns a pre-made course description from the official oes/AP curriculum\n",
    "    -Derek\n",
    "    '''\n",
    "    courseMatch = [\n",
    "        \"ap calc bc\", \"ap calc ab\", \"precalc\", \"biology\", \"english 11\",\n",
    "        \"buddism\", \"spanish i\", \"spanish ii\"\n",
    "    ]\n",
    "    group = aCourse.lower()\n",
    "    desc = \"placeholder\"\n",
    "    if group in courseMatch:\n",
    "        if group == courseMatch[0]:\n",
    "            desc = f\"AP Calculus BC is an introductory college-level calculus course. Students cultivate their understanding of differential and integral calculus through engaging with real-world problems represented graphically, numerically, analytically, and verbally and using definitions and theorems to build arguments and justify conclusions as they explore concepts like change, limits, and the analysis of functions.\"\n",
    "        elif group == courseMatch[1]:\n",
    "            desc = f\"This semester in {aCourse}, we covered the topics of limits, continuity, and differentiation and began the study of integration, which we will continue into the second semester. In addition to daily homework and frequent quizzes, we had three in-class unit tests, a cumulative final exam, and two projects, one on predicting stock prices using derivatives and one on modeling fluid flow using related rates and Torricelli’s Law.\"\n",
    "        elif group == courseMatch[2]:\n",
    "            desc = f\"In this course, students analyzed relations, functions and their graphs (to include polynomial, rational, trigonometric, exponential, logarithmic, and piece-wise functions), and defined trigonometric ratios using the unit circle and analyze trigonometric functions.\"\n",
    "        elif group == courseMatch[3]:\n",
    "            desc = f\"This year-long course uses activities and labs to introduce students to the study of biology, with an emphasis on evolution as the central organizing theory explaining the development and diversity of life on Earth. Students will use tenets of physics and chemistry to study such topics as the origins of life, population ecology, biochemistry, cellular organization, cell division, molecular genetics, Mendelian and population genetics, speciation, biogeography, sociobiology, and ecological energetics and ecosystem dynamics.\"\n",
    "        elif group == courseMatch[4]:\n",
    "            desc = f\"In 11th grade, the focus turns to a set of essential questions around American history, identity, and culture through the disciplinary approach of “American Studies,” an approach that puts literary texts in dialogue with social, political, and cultural contexts. Through experimentation in multiple genres of writing, students gain confidence by utilizing new tools of communication and diversifying their modes of written expression. They will develop complex arguments around the form and content of poems, essays, novels, and long-form literary journalism, often in conversation with established critical voices. The work of the year culminates in a major, article-length piece of nonfiction known as the LJP, or Literary Journalism Project, which asks students to undertake original research and investigation into a pressing local issue. Our readings come from the broad spectrum of American literature, from the period of colonization of the Americas to the present, and help us give multiple answers to the questions of what it means to be, or become, an American. There are no conclusive answers to this question; rather, we hope the course opens out to continued inquiry.\"\n",
    "        elif group == courseMatch[5]:\n",
    "            desc = f\"This course takes as its focus the teachings essential to understanding Buddhist philosophy and religion. Using the three turnings of the wheel of dharma as a guide, students will study the Four Noble Truths as both the Buddhist view of reality and the system of practice to be followed in light of this reality, and they will study the results of engaging in such a practice. Other topics of study will supplement a student’s understanding of the Four Noble Truths; these include emptiness, dependent arising, compassion, cyclic existence, and karma. Throughout the course, students will read sutras and commentaries, explore the relevance of these teachings to their own lives, and engage experientially with a key aspect of Buddhist practice, meditation.\"\n",
    "        elif group == courseMatch[6]:\n",
    "            desc = f\"First year Spanish is a student’s initial introduction to the Spanish language and Hispanic cultures. At the beginning levels, the basic skills of communication are stressed, and students work towards speaking and understanding Spanish in order to communicate in real life situations. Students learn to express themselves in 58 present, past, and future time frames. As students study the language, they begin to understand and appreciate the way of life, customs, values, and cultures of people from around the Spanish-speaking world.\"\n",
    "        elif group == courseMatch[7]:\n",
    "            desc = f\"Spanish II emphasizes the Spanish language as a means of personal communication. It begins to build the strong vocabulary and grammatical background needed for reading and writing the language. A knowledge of basic Spanish grammar is completed, including common verb tenses. Students begin to make short oral presentations and to write their first compositions, usually summaries or descriptions of situations. Students continue their study of the culture and customs of Spanish-speaking peoples.\"\n",
    "    else:\n",
    "        return \"Placeholder - course not in\"\n",
    "    return desc"
   ]
  },
  {
   "cell_type": "code",
   "execution_count": 105,
   "id": "367cea",
   "metadata": {
    "collapsed": false
   },
   "outputs": [
    {
     "data": {
      "text/plain": [
       "'Jimmy, you have shown detailed work in Biology. Your recent work on the project has shown me that you are a persuasive student. Your convincing work-attitude allows you to excel.'"
      ]
     },
     "execution_count": 105,
     "metadata": {
     },
     "output_type": "execute_result"
    }
   ],
   "source": [
    "#Personal Grade-based compliment giver\n",
    "def sentenceChooser(tipe):\n",
    "    '''\n",
    "    A random phrase chooser, indicated by the type of phrase you want\n",
    "    -Derek\n",
    "    '''\n",
    "    prompt = tipe.lower()\n",
    "    if prompt == 'work':\n",
    "        return rChoose(['understanding', 'work', 'results'])\n",
    "    if prompt == 'goodProj':\n",
    "        return rChoose([f''])\n",
    "\n",
    "\n",
    "def upgradedAttributes(file, student:int):\n",
    "    '''\n",
    "    Takes in a file and a student by index\n",
    "    Returns a full comment about in-class work\n",
    "    -Derek\n",
    "    '''\n",
    "    name, course, attri, grade = stats(file, student)\n",
    "    cAttri = rChoose(attri)\n",
    "    comment = \"\"\n",
    "    firstpart = f\"{name.title()}, you have shown {adjChooser()} {sentenceChooser('work')} in {course}. \"\n",
    "    secondpart = f\"Your recent work on the {rChoose(['project','exam'])} has shown me that you are a {adjChooser()} student. \"\n",
    "    finalpart = f\"Your {adjChooser()} {rChoose(['spirit', 'work-attitude', 'word-ethic'])} allows you to excel.\"\n",
    "    extra = ''\n",
    "    \n",
    "    if \"a\" in grade.lower():\n",
    "        extra = f'Your hard work have paid off and earned you an {grade}. '\n",
    "    comment += firstpart + secondpart + finalpart + extra\n",
    "    return comment"
   ]
  },
  {
   "cell_type": "code",
   "execution_count": 87,
   "id": "4d4b87",
   "metadata": {
    "collapsed": false
   },
   "outputs": [
   ],
   "source": [
    "#File converter - raw csv to workable csv\n",
    "def fileReader(file):\n",
    "    '''\n",
    "    A file reader that converts the teachers.csv into a more accesible csv\n",
    "    -Derek\n",
    "    '''\n",
    "    with open(file) as csvF:\n",
    "        data = csv.reader(csvF)\n",
    "        header = next(data)\n",
    "        with open('baseData.csv', 'w') as transfer:\n",
    "            newFile = csv.writer(transfer)\n",
    "            for line in data:\n",
    "                newFile.writerow(line)"
   ]
  },
  {
   "cell_type": "code",
   "execution_count": 88,
   "id": "3c2cb6",
   "metadata": {
    "collapsed": false
   },
   "outputs": [
    {
     "name": "stdout",
     "output_type": "stream",
     "text": [
      "This year-long course uses activities and labs to introduce students to the study of biology, with an emphasis on evolution as the central organizing theory explaining the development and diversity of life on Earth. Students will use tenets of physics and chemistry to study such topics as the origins of life, population ecology, biochemistry, cellular organization, cell division, molecular genetics, Mendelian and population genetics, speciation, biogeography, sociobiology, and ecological energetics and ecosystem dynamics.\n",
      "\n",
      "Jimmy, in this semester of Biology, I recognize your risk-taking in this course. Also I appreciate your consistent growth.Your overall grade is B+, Your progress this semester has been impressive—keep pushing yourself to do your best!\n"
     ]
    }
   ],
   "source": [
    "#First comment making function\n",
    "def testComment(file, row: int):\n",
    "    '''\n",
    "    A testing function, unused in final product\n",
    "    Takes in a file and a student chosen by row index\n",
    "    Returns a mock comment\n",
    "    -Peter and Derek\n",
    "    '''\n",
    "    #a lot of defined variables for ease of testing\n",
    "    with open(file) as csvN:\n",
    "        data = csv.reader(csvN)\n",
    "        chosen = [i for i in data]\n",
    "        student = chosen[row]\n",
    "        fName = student[1]\n",
    "        course = student[2]\n",
    "        attributes = student[3].split(',')\n",
    "        grade = student[4]\n",
    "        print(f\"{courseDesc(course)}\\n\")\n",
    "        #print(f\"{fName} has been a {rChoose(attributes)} student in {course}. They have recieved a {grade}\")\n",
    "        print(\n",
    "            f'{Opening(fName,course)}, {Attribute(attributes)}{Grade(grade)}, {Closing()}'\n",
    "        )\n",
    "\n",
    "\n",
    "testComment('baseData.csv', 2)"
   ]
  },
  {
   "cell_type": "code",
   "execution_count": 107,
   "id": "7f845b",
   "metadata": {
    "collapsed": false
   },
   "outputs": [
   ],
   "source": [
    "#Export into a file, final function\n",
    "\n",
    "\n",
    "def export(file):\n",
    "    \"\"\"\n",
    "    Takes in a csv file with each student's information\n",
    "    writes comments to seperate files for each student \n",
    "    written by Peter&Derek\n",
    "    \"\"\"\n",
    "    with open(file) as csvN:\n",
    "        data = csv.reader(csvN)\n",
    "        chosen = [i for i in data]\n",
    "        numRow = -1\n",
    "        for row in range(len(chosen)):\n",
    "            numRow += 1\n",
    "            student = chosen[row]\n",
    "            fName = student[1]\n",
    "            course = student[2]\n",
    "            attributes = student[3].split(',')\n",
    "            grade = student[4]\n",
    "            Comment = open(f'{fName}.txt', 'w')\n",
    "            Comment.write(f\"{courseDesc(course)}\\n\\n\")\n",
    "            Comment.write(f\"{upgradedAttributes(file, numRow)}\\n\\n\")\n",
    "            Comment.write(\n",
    "                f'{Opening(fName,course)}, {Attribute(attributes)}{Grade(grade)}, {Closing()}\\n\\n'\n",
    "            )\n",
    "    csvN.close()\n",
    "\n",
    "\n",
    "fileReader('teachers.csv') #THIS MUST BE RAN FOR ANY CODE TO WORK!!!\n",
    "export('baseData.csv')"
   ]
  },
  {
   "cell_type": "code",
   "execution_count": 0,
   "id": "c2f62d",
   "metadata": {
    "collapsed": false
   },
   "outputs": [
   ],
   "source": [
   ]
  }
 ],
 "metadata": {
  "kernelspec": {
   "argv": [
    "/usr/bin/python3",
    "-m",
    "ipykernel",
    "--HistoryManager.enabled=False",
    "--matplotlib=inline",
    "-c",
    "%config InlineBackend.figure_formats = set(['retina'])\nimport matplotlib; matplotlib.rcParams['figure.figsize'] = (12, 7)",
    "-f",
    "{connection_file}"
   ],
   "display_name": "Python 3 (system-wide)",
   "env": {
   },
   "language": "python",
   "metadata": {
    "cocalc": {
     "description": "Python 3 programming language",
     "priority": 100,
     "url": "https://www.python.org/"
    }
   },
   "name": "python3",
   "resource_dir": "/ext/jupyter/kernels/python3"
  },
  "language_info": {
   "codemirror_mode": {
    "name": "ipython",
    "version": 3
   },
   "file_extension": ".py",
   "mimetype": "text/x-python",
   "name": "python",
   "nbconvert_exporter": "python",
   "pygments_lexer": "ipython3",
   "version": "3.10.12"
  }
 },
 "nbformat": 4,
 "nbformat_minor": 4
}